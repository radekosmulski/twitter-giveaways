{
 "cells": [
  {
   "cell_type": "code",
   "execution_count": 1,
   "metadata": {},
   "outputs": [],
   "source": [
    "import os\n",
    "import requests\n",
    "import json\n",
    "import numpy as np"
   ]
  },
  {
   "cell_type": "code",
   "execution_count": 2,
   "metadata": {},
   "outputs": [],
   "source": [
    "BEARER_TOKEN = ''\n",
    "CONVERSATION_ID = '1359886158814183424' # id of the tweet you want to pull replies to\n",
    "UNTIL_ID = 1361335313768079366 # id of a tweet that marks the end of the giveaway\n",
    "NUM_WINNERS = 1\n",
    "\n",
    "BLACKLISTED_USERS = ['radekosmulski', 'hasangoni']"
   ]
  },
  {
   "cell_type": "code",
   "execution_count": 3,
   "metadata": {},
   "outputs": [],
   "source": [
    "BEARER_TOKEN = BEARER_TOKEN or os.environ['TWITTER_BEARER_TOKEN']\n",
    "\n",
    "headers = {\n",
    "    'Authorization': f'Bearer {BEARER_TOKEN}'\n",
    "}\n",
    "\n",
    "URL_WITHOUT_NEXT_TOKEN = f\"https://api.twitter.com/2/tweets/search/recent?query=(conversation_id:{CONVERSATION_ID} is:reply)&tweet.fields=conversation_id&expansions=author_id,referenced_tweets.id&user.fields=created_at&until_id={UNTIL_ID}&max_results=100\"\n",
    "url = URL_WITHOUT_NEXT_TOKEN"
   ]
  },
  {
   "cell_type": "code",
   "execution_count": 4,
   "metadata": {},
   "outputs": [],
   "source": [
    "tweets = []\n",
    "users = {}\n",
    "\n",
    "while True:\n",
    "    response = requests.get(url, headers=headers)\n",
    "    j = json.loads(response.content)\n",
    "    for user in j['includes']['users']:\n",
    "        users[user['id']] = user['username']\n",
    "    tweets += j['data']\n",
    "    if 'next_token' in j['meta']:\n",
    "        url = URL_WITHOUT_NEXT_TOKEN + f\"&next_token={j['meta']['next_token']}\"\n",
    "    else: break"
   ]
  },
  {
   "cell_type": "code",
   "execution_count": 5,
   "metadata": {},
   "outputs": [],
   "source": [
    "entrants = []\n",
    "\n",
    "for tweet in sorted(tweets, key=lambda tweet: tweet['id']):\n",
    "    if len(tweet['referenced_tweets']) == 1:\n",
    "        if tweet['referenced_tweets'][0]['type'] == 'replied_to' and tweet['referenced_tweets'][0]['id'] == CONVERSATION_ID:\n",
    "            user = users[tweet['author_id']]\n",
    "            if user not in BLACKLISTED_USERS:\n",
    "                entrants.append(user)"
   ]
  },
  {
   "cell_type": "code",
   "execution_count": 6,
   "metadata": {},
   "outputs": [
    {
     "data": {
      "text/plain": [
       "26"
      ]
     },
     "execution_count": 6,
     "metadata": {},
     "output_type": "execute_result"
    }
   ],
   "source": [
    "len(entrants)"
   ]
  },
  {
   "cell_type": "code",
   "execution_count": 7,
   "metadata": {},
   "outputs": [
    {
     "data": {
      "text/plain": [
       "['madeline_pc',\n",
       " '_iamEmile',\n",
       " 'Vijish68859437',\n",
       " 'LoneStriker1',\n",
       " 'malicannoyan',\n",
       " 'Anirudio10',\n",
       " 'ajankelo',\n",
       " 'cipri_tom',\n",
       " 'daflowjoe',\n",
       " 'willjsteele',\n",
       " 'Etienne_Beaulac',\n",
       " 'beckerfuffle',\n",
       " 'thecapeador',\n",
       " 'peterkoman',\n",
       " 'gauravjbjain',\n",
       " 'yasirdin1',\n",
       " 'Tony51637450',\n",
       " 'aviopene',\n",
       " 'evjrob',\n",
       " 'nithishdivakar',\n",
       " 'dnaveenr',\n",
       " 'stocastico',\n",
       " 'LRaes2',\n",
       " 'TheCodingProjec',\n",
       " 'blaber_justin',\n",
       " 'harumambaru']"
      ]
     },
     "execution_count": 7,
     "metadata": {},
     "output_type": "execute_result"
    }
   ],
   "source": [
    "entrants"
   ]
  },
  {
   "cell_type": "code",
   "execution_count": 8,
   "metadata": {},
   "outputs": [
    {
     "data": {
      "text/plain": [
       "['gauravjbjain']"
      ]
     },
     "execution_count": 8,
     "metadata": {},
     "output_type": "execute_result"
    }
   ],
   "source": [
    "np.random.seed(int(UNTIL_ID) % 2**32)\n",
    "np.random.shuffle(entrants)\n",
    "\n",
    "entrants[:NUM_WINNERS]"
   ]
  }
 ],
 "metadata": {
  "kernelspec": {
   "display_name": "Python 3",
   "language": "python",
   "name": "python3"
  },
  "language_info": {
   "codemirror_mode": {
    "name": "ipython",
    "version": 3
   },
   "file_extension": ".py",
   "mimetype": "text/x-python",
   "name": "python",
   "nbconvert_exporter": "python",
   "pygments_lexer": "ipython3",
   "version": "3.8.5"
  }
 },
 "nbformat": 4,
 "nbformat_minor": 4
}
